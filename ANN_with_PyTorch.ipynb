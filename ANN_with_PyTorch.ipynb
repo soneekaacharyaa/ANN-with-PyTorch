{
  "nbformat": 4,
  "nbformat_minor": 0,
  "metadata": {
    "colab": {
      "provenance": [],
      "include_colab_link": true
    },
    "kernelspec": {
      "name": "python3",
      "display_name": "Python 3"
    },
    "language_info": {
      "name": "python"
    }
  },
  "cells": [
    {
      "cell_type": "markdown",
      "metadata": {
        "id": "view-in-github",
        "colab_type": "text"
      },
      "source": [
        "<a href=\"https://colab.research.google.com/github/soneekaacharyaa/ANN-with-PyTorch/blob/main/ANN_with_PyTorch.ipynb\" target=\"_parent\"><img src=\"https://colab.research.google.com/assets/colab-badge.svg\" alt=\"Open In Colab\"/></a>"
      ]
    },
    {
      "cell_type": "markdown",
      "source": [
        "##Importing necessary libraries"
      ],
      "metadata": {
        "id": "V4PcgBU-WPym"
      }
    },
    {
      "cell_type": "code",
      "source": [
        "import torch\n",
        "from torch import nn\n"
      ],
      "metadata": {
        "id": "MAa9ySV8WQV5"
      },
      "execution_count": null,
      "outputs": []
    },
    {
      "cell_type": "markdown",
      "source": [
        "##Defining Network\n"
      ],
      "metadata": {
        "id": "XPepZoPmapxU"
      }
    },
    {
      "cell_type": "code",
      "source": [
        "class ANNModel(nn.Module):\n",
        "  def __init__(self):\n",
        "    super(ANNModel,self).__init__()\n",
        "    self.flatten = nn.Flatten()\n",
        "    self.fc1 = nn.Linear(28*28,100)\n",
        "    self.relu1 = nn.ReLU()\n",
        "    self.fc2 = nn.Linear(100,100)\n",
        "    self.relu2 = nn.ReLU()\n",
        "    self.fc3 = nn.Linear(100,78)\n",
        "    self.relu3 = nn.ReLU()\n",
        "    self.fc4 = nn.Linear(78,1)\n",
        "\n",
        "  def forward(self,x):\n",
        "    x = self.flatten(x)\n",
        "    out = self.fc1(x)\n",
        "    out = self.relu1(out)\n",
        "    out = self.fc2(out)\n",
        "    out = self.relu2(out)\n",
        "    out = self.fc3(out)\n",
        "    out = self.relu3(out)\n",
        "    out = self.fc4(out)\n",
        "    return out"
      ],
      "metadata": {
        "id": "IaEV4SqBWYbS"
      },
      "execution_count": null,
      "outputs": []
    },
    {
      "cell_type": "code",
      "source": [
        "model = ANNModel()\n",
        "print(model)"
      ],
      "metadata": {
        "colab": {
          "base_uri": "https://localhost:8080/"
        },
        "id": "SDVdEAKwlnoP",
        "outputId": "a7be7db0-aa81-405a-8d92-32a28d7240d0"
      },
      "execution_count": null,
      "outputs": [
        {
          "output_type": "stream",
          "name": "stdout",
          "text": [
            "ANNModel(\n",
            "  (flatten): Flatten(start_dim=1, end_dim=-1)\n",
            "  (fc1): Linear(in_features=784, out_features=100, bias=True)\n",
            "  (relu1): ReLU()\n",
            "  (fc2): Linear(in_features=100, out_features=100, bias=True)\n",
            "  (relu2): ReLU()\n",
            "  (fc3): Linear(in_features=100, out_features=78, bias=True)\n",
            "  (relu3): ReLU()\n",
            "  (fc4): Linear(in_features=78, out_features=1, bias=True)\n",
            ")\n"
          ]
        }
      ]
    },
    {
      "cell_type": "markdown",
      "source": [
        "##Calculating loss\n"
      ],
      "metadata": {
        "id": "zeQgaj57yQFN"
      }
    },
    {
      "cell_type": "code",
      "source": [
        "#MSE\n",
        "def MSEloss(prediction,target):\n",
        "  loss = nn.functional.mse_loss(prediction,target)\n",
        "  return loss\n",
        "\n",
        "def CrossEntropyLoss(prediction,target):\n",
        "  loss = nn.CrossEntropyLoss(prediction,target)\n",
        "  return loss"
      ],
      "metadata": {
        "id": "wT4xFIJoJObq"
      },
      "execution_count": null,
      "outputs": []
    },
    {
      "cell_type": "markdown",
      "source": [
        "##Optimizer\n"
      ],
      "metadata": {
        "id": "nviC1_KdyTlZ"
      }
    },
    {
      "cell_type": "code",
      "source": [
        "#Adam Optimizer\n",
        "learning_rate = 0.001\n",
        "optimizer = torch.optim.Adam(model.parameters(),lr = learning_rate)\n",
        "\n",
        "#SGD Optimizer\n",
        "# learning_rate = 0.001\n",
        "# optimizer = torch.optim.SGD(model.parameters(), lr = learning_rate)"
      ],
      "metadata": {
        "id": "gm-64UqxyUQe"
      },
      "execution_count": null,
      "outputs": []
    },
    {
      "cell_type": "markdown",
      "source": [
        "##Training Model\n"
      ],
      "metadata": {
        "id": "gBGMV7BCyZ4B"
      }
    },
    {
      "cell_type": "code",
      "source": [
        "def train(model, input, target):\n",
        "    optimizer.zero_grad()\n",
        "    y_predicted = model(input)\n",
        "    y = target\n",
        "    current_loss = MSEloss(y_predicted, y)\n",
        "    current_loss.backward()\n",
        "    optimizer.step()\n",
        "    optimizer.zero_grad()\n",
        "    return current_loss.item()"
      ],
      "metadata": {
        "id": "ZrsH1RUOyWX8"
      },
      "execution_count": null,
      "outputs": []
    },
    {
      "cell_type": "code",
      "source": [
        "X = torch.rand(1,28,28)\n",
        "Y = torch.rand(1)\n",
        "Y = Y.view(1,-1)\n",
        "train_model = train(model,X,Y)\n",
        "train_model"
      ],
      "metadata": {
        "colab": {
          "base_uri": "https://localhost:8080/"
        },
        "id": "tzNaHKJMynxf",
        "outputId": "c1b65e33-36b4-4a04-d54f-0e91e9efcbe1"
      },
      "execution_count": null,
      "outputs": [
        {
          "output_type": "execute_result",
          "data": {
            "text/plain": [
              "0.20588907599449158"
            ]
          },
          "metadata": {},
          "execution_count": 316
        }
      ]
    }
  ]
}
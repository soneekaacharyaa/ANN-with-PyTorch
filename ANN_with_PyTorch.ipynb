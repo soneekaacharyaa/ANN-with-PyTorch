{
  "nbformat": 4,
  "nbformat_minor": 0,
  "metadata": {
    "colab": {
      "provenance": [],
      "authorship_tag": "ABX9TyNKJEEVEpP0bA0UtWvkuMXO",
      "include_colab_link": true
    },
    "kernelspec": {
      "name": "python3",
      "display_name": "Python 3"
    },
    "language_info": {
      "name": "python"
    }
  },
  "cells": [
    {
      "cell_type": "markdown",
      "metadata": {
        "id": "view-in-github",
        "colab_type": "text"
      },
      "source": [
        "<a href=\"https://colab.research.google.com/github/soneekaacharyaa/ANN-with-PyTorch/blob/main/ANN_with_PyTorch.ipynb\" target=\"_parent\"><img src=\"https://colab.research.google.com/assets/colab-badge.svg\" alt=\"Open In Colab\"/></a>"
      ]
    },
    {
      "cell_type": "markdown",
      "source": [
        "##Importing necessary libraries##"
      ],
      "metadata": {
        "id": "V4PcgBU-WPym"
      }
    },
    {
      "cell_type": "code",
      "source": [
        "import torch\n",
        "from torch import nn\n"
      ],
      "metadata": {
        "id": "MAa9ySV8WQV5"
      },
      "execution_count": 2,
      "outputs": []
    },
    {
      "cell_type": "markdown",
      "source": [
        "##Defining Network##"
      ],
      "metadata": {
        "id": "XPepZoPmapxU"
      }
    },
    {
      "cell_type": "code",
      "source": [
        "class ANNModel(nn.module):\n",
        "  def __init__(self):\n",
        "    super(ANNModel,self).__init__()\n",
        "\n",
        "    "
      ],
      "metadata": {
        "id": "IaEV4SqBWYbS"
      },
      "execution_count": null,
      "outputs": []
    }
  ]
}